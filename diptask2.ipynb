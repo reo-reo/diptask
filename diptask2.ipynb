{
  "nbformat": 4,
  "nbformat_minor": 0,
  "metadata": {
    "colab": {
      "name": "diptask2.ipynb",
      "provenance": [],
      "collapsed_sections": []
    },
    "kernelspec": {
      "display_name": "Python 3",
      "name": "python3"
    }
  },
  "cells": [
    {
      "cell_type": "code",
      "metadata": {
        "id": "tv5A_J02Ado3"
      },
      "source": [
        "import numpy as np\n",
        "import pandas as pd\n",
        "import sklearn"
      ],
      "execution_count": 539,
      "outputs": []
    },
    {
      "cell_type": "code",
      "metadata": {
        "id": "SoYleJ-yAkGJ",
        "colab": {
          "base_uri": "https://localhost:8080/"
        },
        "outputId": "e8c8584e-128e-4bac-9180-2f193ab693fb"
      },
      "source": [
        "from google.colab import drive\n",
        "drive.mount('/content/drive')"
      ],
      "execution_count": 540,
      "outputs": [
        {
          "output_type": "stream",
          "text": [
            "Drive already mounted at /content/drive; to attempt to forcibly remount, call drive.mount(\"/content/drive\", force_remount=True).\n"
          ],
          "name": "stdout"
        }
      ]
    },
    {
      "cell_type": "code",
      "metadata": {
        "id": "RoG8OjBgArr-",
        "colab": {
          "base_uri": "https://localhost:8080/"
        },
        "outputId": "2e226a4d-6714-4e45-aa8b-0a83ce201449"
      },
      "source": [
        "train_x = pd.read_csv(\"/content/drive/My Drive/train_x.csv\")\n",
        "test_x = pd.read_csv(\"/content/drive/My Drive/test_x.csv\")"
      ],
      "execution_count": 541,
      "outputs": [
        {
          "output_type": "stream",
          "text": [
            "/usr/local/lib/python3.6/dist-packages/IPython/core/interactiveshell.py:2718: DtypeWarning: Columns (114) have mixed types.Specify dtype option on import or set low_memory=False.\n",
            "  interactivity=interactivity, compiler=compiler, result=result)\n"
          ],
          "name": "stderr"
        }
      ]
    },
    {
      "cell_type": "code",
      "metadata": {
        "id": "9G4WVjCQAxlA"
      },
      "source": [
        "all_nan_cols = [\"勤務地　最寄駅3（駅名）\", \"応募先　名称\",\"勤務地　最寄駅3（沿線名）\",\"（派遣先）勤務先写真コメント\",\"勤務地　最寄駅3（分）\",\"無期雇用派遣\",\"未使用.14\",\"（派遣以外）応募後の流れ\",\"（派遣先）概要　従業員数\",\"電話応対なし\",\"週払い\",\"固定残業制 残業代 下限\",\"未使用.11\",\"フリー項目　内容\",\"先輩からのメッセージ\",\"未使用.10\",\"未使用.8\",\"経験必須\",\"固定残業制 残業代に充当する労働時間数 下限\",\"ブロックコード2\",\"未使用.4\",\"未使用.7\",\"メモ\",\"ブロックコード3\",\"WEB面接OK\",\"17時以降出社OK\",\"寮・社宅あり\",\"ネットワーク関連のスキルを活かす\",\"Wワーク・副業可能\",\"固定残業制 残業代に充当する労働時間数 上限\",\"プログラム関連のスキルを活かす\",\"未使用.15\",\"未使用.12\",\"エルダー（50〜）活躍中\",\"人材紹介\",\"主婦(ママ)・主夫歓迎\",\"ブロックコード1\",\"フリー項目　タイトル\",\"未使用.1\",\"ブランクOK\",\"未使用.20\",\"募集形態\",\"勤務地　最寄駅3（駅からの交通手段）\",\"応募先　最寄駅（沿線名）\",\"仕事写真（下）　写真1　ファイル名\",\"未使用.16\",\"仕事写真（下）　写真3　ファイル名\",\"オープニングスタッフ\",\"応募先　所在地　ブロックコード\",\"応募先　所在地　都道府県\",\"応募先　最寄駅（駅名）\",\"外国人活躍中・留学生歓迎\",\"未使用.17\",\"未使用.9\",\"日払い\",\"未使用\",\"未使用.18\",\"未使用.22\",\"未使用.5\",\"勤務地　周辺情報\",\"仕事写真（下）　写真2　ファイル名\",\"バイク・自転車通勤OK\",\"仕事写真（下）　写真2　コメント\",\"未使用.3\",\"未使用.2\",\"WEB関連のスキルを活かす\",\"未使用.6\",\"給与　経験者給与下限\",\"学生歓迎\",\"固定残業制 残業代 上限\",\"未使用.19\",\"給与　経験者給与上限\",\"未使用.21\",\"待遇・福利厚生\",\"シニア（60〜）歓迎\",\"ベンチャー企業\",\"少人数の職場\",\"仕事写真（下）　写真3　コメント\",\"応募先　備考\",\"応募先　所在地　市区町村\",\"仕事写真（下）　写真1　コメント\",\"未使用.13\",\"応募拠点\",\"これまでの採用者例\",\"（派遣先）概要　勤務先名（フリガナ）\"]\n",
        "#全てが欠損値のカラムを削除\n",
        "train_x = train_x.drop(all_nan_cols, axis=1)\n",
        "test_x = test_x.drop(all_nan_cols, axis=1)"
      ],
      "execution_count": 542,
      "outputs": []
    },
    {
      "cell_type": "code",
      "metadata": {
        "id": "Fi3ekQpzBA9D"
      },
      "source": [
        "all_same_data_cols = [\"勤務地固定\",\"週1日からOK\",\"ミドル（40〜）活躍中\",\"ルーティンワークがメイン\",\"対象者設定　年齢下限\",\"動画コメント\",\"給与/交通費　給与支払区分\",\"CAD関連のスキルを活かす\",\"固定残業制\",\"公開区分\",\"20代活躍中\",\"検索対象エリア\",\"就業形態区分\",\"30代活躍中\",\"雇用形態\",\"Dip JobsリスティングS\",\"資格取得支援制度あり\",\"対象者設定　年齢上限\",\"社会保険制度あり\",\"動画タイトル\",\"残業月10時間未満\",\"履歴書不要\",\"研修制度あり\",\"DTP関連のスキルを活かす\",\"新卒・第二新卒歓迎\",\"産休育休取得事例あり\",\"動画ファイル名\",\"対象者設定　性別\"]\n",
        "#全て同じデータが格納されているカラムの削除\n",
        "train_x = train_x.drop(all_same_data_cols, axis=1)\n",
        "test_x = test_x.drop(all_same_data_cols, axis=1)"
      ],
      "execution_count": 543,
      "outputs": []
    },
    {
      "cell_type": "code",
      "metadata": {
        "id": "-8hlJzU9BGfp",
        "colab": {
          "base_uri": "https://localhost:8080/",
          "height": 204
        },
        "outputId": "6bc41603-093d-4b75-de14-3261331019fc"
      },
      "source": [
        "train_y = pd.read_csv(\"/content/drive/My Drive/train_y.csv\")\n",
        "train_y.head()"
      ],
      "execution_count": 544,
      "outputs": [
        {
          "output_type": "execute_result",
          "data": {
            "text/html": [
              "<div>\n",
              "<style scoped>\n",
              "    .dataframe tbody tr th:only-of-type {\n",
              "        vertical-align: middle;\n",
              "    }\n",
              "\n",
              "    .dataframe tbody tr th {\n",
              "        vertical-align: top;\n",
              "    }\n",
              "\n",
              "    .dataframe thead th {\n",
              "        text-align: right;\n",
              "    }\n",
              "</style>\n",
              "<table border=\"1\" class=\"dataframe\">\n",
              "  <thead>\n",
              "    <tr style=\"text-align: right;\">\n",
              "      <th></th>\n",
              "      <th>お仕事No.</th>\n",
              "      <th>応募数 合計</th>\n",
              "    </tr>\n",
              "  </thead>\n",
              "  <tbody>\n",
              "    <tr>\n",
              "      <th>0</th>\n",
              "      <td>2203566799</td>\n",
              "      <td>1.945910</td>\n",
              "    </tr>\n",
              "    <tr>\n",
              "      <th>1</th>\n",
              "      <td>2203546900</td>\n",
              "      <td>3.951244</td>\n",
              "    </tr>\n",
              "    <tr>\n",
              "      <th>2</th>\n",
              "      <td>2203546900</td>\n",
              "      <td>3.295837</td>\n",
              "    </tr>\n",
              "    <tr>\n",
              "      <th>3</th>\n",
              "      <td>2203545344</td>\n",
              "      <td>3.970292</td>\n",
              "    </tr>\n",
              "    <tr>\n",
              "      <th>4</th>\n",
              "      <td>2203545344</td>\n",
              "      <td>3.784190</td>\n",
              "    </tr>\n",
              "  </tbody>\n",
              "</table>\n",
              "</div>"
            ],
            "text/plain": [
              "       お仕事No.    応募数 合計\n",
              "0  2203566799  1.945910\n",
              "1  2203546900  3.951244\n",
              "2  2203546900  3.295837\n",
              "3  2203545344  3.970292\n",
              "4  2203545344  3.784190"
            ]
          },
          "metadata": {
            "tags": []
          },
          "execution_count": 544
        }
      ]
    },
    {
      "cell_type": "code",
      "metadata": {
        "id": "E2Tfff28BLBO"
      },
      "source": [
        "#行削除の工程で次元の不一致が発生してしまうのを防ぐため、一度目的変数と説明変数を統合する\n",
        "apply_number = train_y[\"応募数 合計\"]\n",
        "train_x[\"応募数 合計\"] = apply_number"
      ],
      "execution_count": 545,
      "outputs": []
    },
    {
      "cell_type": "code",
      "metadata": {
        "id": "UVYC-LK2BP7a",
        "colab": {
          "base_uri": "https://localhost:8080/"
        },
        "outputId": "e51e64db-48d8-4733-97ea-c72f51833169"
      },
      "source": [
        "#統合による混乱を防ぐため、変数名変更\n",
        "train_data = train_x\n",
        "train_data[\"応募数 合計\"]"
      ],
      "execution_count": 546,
      "outputs": [
        {
          "output_type": "execute_result",
          "data": {
            "text/plain": [
              "0        1.945910\n",
              "1        3.951244\n",
              "2        3.295837\n",
              "3        3.970292\n",
              "4        3.784190\n",
              "           ...   \n",
              "15848    0.000000\n",
              "15849    0.000000\n",
              "15850    0.000000\n",
              "15851    0.693147\n",
              "15852    0.000000\n",
              "Name: 応募数 合計, Length: 15853, dtype: float64"
            ]
          },
          "metadata": {
            "tags": []
          },
          "execution_count": 546
        }
      ]
    },
    {
      "cell_type": "code",
      "metadata": {
        "id": "ISdCBUz1BeD7"
      },
      "source": [
        "#重複データの削除\n",
        "train_data = train_data.drop_duplicates()\n",
        "test_x = test_x.drop_duplicates()"
      ],
      "execution_count": 547,
      "outputs": []
    },
    {
      "cell_type": "code",
      "metadata": {
        "id": "wXxLq1xzBlzt"
      },
      "source": [
        "train_data = train_data.reset_index()\n",
        "test_x = test_x.reset_index()"
      ],
      "execution_count": 548,
      "outputs": []
    },
    {
      "cell_type": "code",
      "metadata": {
        "id": "sbzGc5UZBvGp"
      },
      "source": [
        "train_data = train_data.drop([\"index\"],axis=1)\n",
        "test_x = test_x.drop([\"index\"],axis=1)"
      ],
      "execution_count": 549,
      "outputs": []
    },
    {
      "cell_type": "code",
      "metadata": {
        "id": "35dbobf6KyBs"
      },
      "source": [
        "str_cols = [\"勤務地　最寄駅2（駅名）\",\"勤務地　最寄駅2（沿線名）\",\"お仕事名\",\"休日休暇　備考\",\"期間・時間　勤務時間\",\"（派遣先）概要　事業内容\",\"（紹介予定）年収・給与例\",\"（紹介予定）休日休暇\",\"派遣会社のうれしい特典\",\"お仕事のポイント（仕事PR）\",\"（派遣先）職場の雰囲気\",\"勤務地　最寄駅1（駅名）\",\"給与/交通費　備考\"]"
      ],
      "execution_count": 550,
      "outputs": []
    },
    {
      "cell_type": "code",
      "metadata": {
        "id": "7p--S8z1dAJQ"
      },
      "source": [
        "train_data = train_data.drop(str_cols, axis=1)\n",
        "test_x = test_x.drop(str_cols, axis=1)"
      ],
      "execution_count": 551,
      "outputs": []
    },
    {
      "cell_type": "code",
      "metadata": {
        "id": "WKV_ON7-eMCg"
      },
      "source": [
        "#使い物にならなさそうなカラムの削除\n",
        "invalid_cols = [\"（派遣先）勤務先写真ファイル名\",\"勤務地　最寄駅2（分）\",]\n",
        "train_data = train_data.drop(invalid_cols, axis=1)\n",
        "test_x = test_x.drop(invalid_cols, axis=1)"
      ],
      "execution_count": 552,
      "outputs": []
    },
    {
      "cell_type": "code",
      "metadata": {
        "id": "mTS63Nv_cuNz"
      },
      "source": [
        "#欠損値を平均値により補完\n",
        "male_percentage = train_data[\"（派遣先）配属先部署　男女比　男\"]\n",
        "male_percentage = male_percentage.fillna(male_percentage.mean())\n",
        "train_data[\"（派遣先）配属先部署　男女比　男\"] = male_percentage\n",
        "\n",
        "male_percentage = test_x[\"（派遣先）配属先部署　男女比　男\"]\n",
        "male_percentage = male_percentage.fillna(male_percentage.mean())\n",
        "test_x[\"（派遣先）配属先部署　男女比　男\"] = male_percentage"
      ],
      "execution_count": 553,
      "outputs": []
    },
    {
      "cell_type": "code",
      "metadata": {
        "id": "JjsLQroocxID"
      },
      "source": [
        "people_number = train_data[\"（派遣先）配属先部署　人数\"]\n",
        "people_number = people_number.fillna(people_number.mean())\n",
        "train_data[\"（派遣先）配属先部署　人数\"] = people_number\n",
        "\n",
        "people_number = test_x[\"（派遣先）配属先部署　人数\"]\n",
        "people_number = people_number.fillna(test_x.mean())\n",
        "test_x[\"（派遣先）配属先部署　人数\"] = test_x"
      ],
      "execution_count": 554,
      "outputs": []
    },
    {
      "cell_type": "code",
      "metadata": {
        "id": "Vav1yhI0czpz"
      },
      "source": [
        "take_minute1 = train_data[\"勤務地　最寄駅1（分）\"]\n",
        "take_minute1 = take_minute1.fillna(take_minute1.mean())\n",
        "train_data[\"勤務地　最寄駅1（分）\"] = take_minute1\n",
        "\n",
        "take_minute1 = train_data[\"勤務地　最寄駅1（分）\"]\n",
        "take_minute1 = take_minute1.fillna(take_minute1.mean())\n",
        "train_data[\"勤務地　最寄駅1（分）\"] = take_minute1"
      ],
      "execution_count": 555,
      "outputs": []
    },
    {
      "cell_type": "code",
      "metadata": {
        "id": "vjkhsoAuc7p2"
      },
      "source": [
        "age_ave = train_data[\"（派遣先）配属先部署　平均年齢\"]\n",
        "age_ave = age_ave.fillna(age_ave.mean())\n",
        "train_data[\"（派遣先）配属先部署　平均年齢\"] = age_ave\n",
        "\n",
        "age_ave = test_x[\"（派遣先）配属先部署　平均年齢\"]\n",
        "age_ave = age_ave.fillna(age_ave.mean())\n",
        "test_x[\"（派遣先）配属先部署　平均年齢\"] = age_ave"
      ],
      "execution_count": 556,
      "outputs": []
    },
    {
      "cell_type": "code",
      "metadata": {
        "id": "r5veiAQWpf2B"
      },
      "source": [
        "train_data['掲載期間　開始日'] = pd.to_datetime(train_data[\"掲載期間　開始日\"])\n",
        "train_data['期間・時間　勤務開始日'] = pd.to_datetime(train_data[\"期間・時間　勤務開始日\"])\n",
        "train_data['掲載期間　終了日'] = pd.to_datetime(train_data[\"掲載期間　終了日\"])\n",
        "\n",
        "test_x['掲載期間　開始日'] = pd.to_datetime(test_x[\"掲載期間　開始日\"])\n",
        "test_x['期間・時間　勤務開始日'] = pd.to_datetime(test_x[\"期間・時間　勤務開始日\"])\n",
        "test_x['掲載期間　終了日'] = pd.to_datetime(test_x[\"掲載期間　終了日\"])"
      ],
      "execution_count": 557,
      "outputs": []
    },
    {
      "cell_type": "code",
      "metadata": {
        "id": "pY-jrssT2CO9"
      },
      "source": [
        "date_cols = [\"掲載期間　開始日\",\"期間・時間　勤務開始日\",\"掲載期間　終了日\"]\n",
        "train_data = train_data.drop(date_cols,axis=1)\n",
        "test_x = test_x.drop(date_cols,axis=1)"
      ],
      "execution_count": 558,
      "outputs": []
    },
    {
      "cell_type": "code",
      "metadata": {
        "id": "QgXQBe08QBKQ"
      },
      "source": [
        "ohe_cols = [\"拠点番号\",\"（紹介予定）入社後の雇用形態\",\"（紹介予定）雇用形態備考\",\"勤務地　最寄駅2（駅からの交通手段）\",\"（紹介予定）入社時期\",\"期間･時間　備考\"]"
      ],
      "execution_count": 559,
      "outputs": []
    },
    {
      "cell_type": "code",
      "metadata": {
        "id": "NdjgjUw9m6_8"
      },
      "source": [
        "train_data = pd.get_dummies(train_data, drop_first=True,columns=ohe_cols, dummy_na=True, prefix='dummy',prefix_sep='')\n",
        "test_x = pd.get_dummies(test_x, drop_first=True,columns=ohe_cols, dummy_na=True, prefix='dummy',prefix_sep='')"
      ],
      "execution_count": 560,
      "outputs": []
    },
    {
      "cell_type": "code",
      "metadata": {
        "id": "ra9hKJ9r25IN",
        "colab": {
          "base_uri": "https://localhost:8080/",
          "height": 1000
        },
        "outputId": "ced9c09c-fadc-484d-9431-d759d8a7d4b6"
      },
      "source": [
        "y = train_data[\"応募数 合計\"]\n",
        "X = train_data.drop([\"お仕事No.\",\"応募数 合計\"],axis=1)\n",
        "X"
      ],
      "execution_count": 561,
      "outputs": [
        {
          "output_type": "execute_result",
          "data": {
            "text/html": [
              "<div>\n",
              "<style scoped>\n",
              "    .dataframe tbody tr th:only-of-type {\n",
              "        vertical-align: middle;\n",
              "    }\n",
              "\n",
              "    .dataframe tbody tr th {\n",
              "        vertical-align: top;\n",
              "    }\n",
              "\n",
              "    .dataframe thead th {\n",
              "        text-align: right;\n",
              "    }\n",
              "</style>\n",
              "<table border=\"1\" class=\"dataframe\">\n",
              "  <thead>\n",
              "    <tr style=\"text-align: right;\">\n",
              "      <th></th>\n",
              "      <th>職場の様子</th>\n",
              "      <th>休日休暇(月曜日)</th>\n",
              "      <th>（派遣先）配属先部署　男女比　男</th>\n",
              "      <th>大手企業</th>\n",
              "      <th>交通費別途支給</th>\n",
              "      <th>（派遣先）配属先部署　人数</th>\n",
              "      <th>残業月20時間以上</th>\n",
              "      <th>職種コード</th>\n",
              "      <th>1日7時間以下勤務OK</th>\n",
              "      <th>短時間勤務OK(1日4h以内)</th>\n",
              "      <th>駅から徒歩5分以内</th>\n",
              "      <th>学校・公的機関（官公庁）</th>\n",
              "      <th>土日祝のみ勤務</th>\n",
              "      <th>Wordのスキルを活かす</th>\n",
              "      <th>勤務地　最寄駅1（分）</th>\n",
              "      <th>派遣スタッフ活躍中</th>\n",
              "      <th>大量募集</th>\n",
              "      <th>Accessのスキルを活かす</th>\n",
              "      <th>休日休暇(火曜日)</th>\n",
              "      <th>平日休みあり</th>\n",
              "      <th>（派遣先）概要　勤務先名（漢字）</th>\n",
              "      <th>フラグオプション選択</th>\n",
              "      <th>（派遣）応募後の流れ</th>\n",
              "      <th>期間・時間　勤務期間</th>\n",
              "      <th>派遣形態</th>\n",
              "      <th>週2・3日OK</th>\n",
              "      <th>勤務先公開</th>\n",
              "      <th>Excelのスキルを活かす</th>\n",
              "      <th>16時前退社OK</th>\n",
              "      <th>正社員登用あり</th>\n",
              "      <th>残業月20時間未満</th>\n",
              "      <th>勤務地　備考</th>\n",
              "      <th>英語力不要</th>\n",
              "      <th>休日休暇(日曜日)</th>\n",
              "      <th>社員食堂あり</th>\n",
              "      <th>10時以降出社OK</th>\n",
              "      <th>英語以外の語学力を活かす</th>\n",
              "      <th>休日休暇(祝日)</th>\n",
              "      <th>外資系企業</th>\n",
              "      <th>服装自由</th>\n",
              "      <th>...</th>\n",
              "      <th>dummy603徳島</th>\n",
              "      <th>dummy604高知</th>\n",
              "      <th>dummy701福岡</th>\n",
              "      <th>dummy702北九州</th>\n",
              "      <th>dummy703大分</th>\n",
              "      <th>dummy704佐賀</th>\n",
              "      <th>dummy705長崎</th>\n",
              "      <th>dummy706熊本</th>\n",
              "      <th>dummy707宮崎</th>\n",
              "      <th>dummy708鹿児島</th>\n",
              "      <th>dummy709沖縄</th>\n",
              "      <th>dummynan</th>\n",
              "      <th>dummy1.0</th>\n",
              "      <th>dummy2.0</th>\n",
              "      <th>dummynan</th>\n",
              "      <th>dummyアルバイト社員</th>\n",
              "      <th>dummyパート社員</th>\n",
              "      <th>dummy契約員</th>\n",
              "      <th>dummy契約契約社員</th>\n",
              "      <th>dummy契約社員</th>\n",
              "      <th>dummy正社員</th>\n",
              "      <th>dummynan</th>\n",
              "      <th>dummy2.0</th>\n",
              "      <th>dummy3.0</th>\n",
              "      <th>dummynan</th>\n",
              "      <th>dummy◆1ヶ月後</th>\n",
              "      <th>dummy◆2ヶ月後</th>\n",
              "      <th>dummy◆3ヶ月後</th>\n",
              "      <th>dummy◆4ヶ月後</th>\n",
              "      <th>dummy◆5ヶ月後</th>\n",
              "      <th>dummy◆6ヶ月後</th>\n",
              "      <th>dummynan</th>\n",
              "      <th>dummy◆開始日はご相談可能です。詳しくはお問合せください！</th>\n",
              "      <th>dummy◆開始日はご相談可能です。詳しくはお気軽にお問合せください！</th>\n",
              "      <th>dummy◆開始日はご相談可能です！詳しくはお問い合せください！</th>\n",
              "      <th>dummy◆開始日はご相談可能です！詳しくはお問い合わせください！</th>\n",
              "      <th>dummy◆開始日はご相談可能です！詳しくはお問い合わせ下さい！</th>\n",
              "      <th>dummy◆開始日はご相談可能です！詳しくはお問合せください！</th>\n",
              "      <th>dummy延長可能性：有</th>\n",
              "      <th>dummynan</th>\n",
              "    </tr>\n",
              "  </thead>\n",
              "  <tbody>\n",
              "    <tr>\n",
              "      <th>0</th>\n",
              "      <td>3</td>\n",
              "      <td>0</td>\n",
              "      <td>6.000000</td>\n",
              "      <td>0</td>\n",
              "      <td>0</td>\n",
              "      <td>12.000000</td>\n",
              "      <td>0</td>\n",
              "      <td>22010</td>\n",
              "      <td>1</td>\n",
              "      <td>0</td>\n",
              "      <td>1</td>\n",
              "      <td>1</td>\n",
              "      <td>0</td>\n",
              "      <td>1</td>\n",
              "      <td>3.000000</td>\n",
              "      <td>1</td>\n",
              "      <td>0</td>\n",
              "      <td>0</td>\n",
              "      <td>0</td>\n",
              "      <td>0</td>\n",
              "      <td>NaN</td>\n",
              "      <td>1</td>\n",
              "      <td>＊最後までご覧いただき、ありがとうございます＊&lt;BR&gt;&lt;BR&gt;「わたしでもチャレンジできるか...</td>\n",
              "      <td>5</td>\n",
              "      <td>0</td>\n",
              "      <td>0</td>\n",
              "      <td>0</td>\n",
              "      <td>1</td>\n",
              "      <td>0</td>\n",
              "      <td>0</td>\n",
              "      <td>0</td>\n",
              "      <td>東京都足立区</td>\n",
              "      <td>1</td>\n",
              "      <td>1</td>\n",
              "      <td>1</td>\n",
              "      <td>0</td>\n",
              "      <td>0</td>\n",
              "      <td>1</td>\n",
              "      <td>0</td>\n",
              "      <td>1</td>\n",
              "      <td>...</td>\n",
              "      <td>0</td>\n",
              "      <td>0</td>\n",
              "      <td>0</td>\n",
              "      <td>0</td>\n",
              "      <td>0</td>\n",
              "      <td>0</td>\n",
              "      <td>0</td>\n",
              "      <td>0</td>\n",
              "      <td>0</td>\n",
              "      <td>0</td>\n",
              "      <td>0</td>\n",
              "      <td>0</td>\n",
              "      <td>0</td>\n",
              "      <td>0</td>\n",
              "      <td>1</td>\n",
              "      <td>0</td>\n",
              "      <td>0</td>\n",
              "      <td>0</td>\n",
              "      <td>0</td>\n",
              "      <td>0</td>\n",
              "      <td>0</td>\n",
              "      <td>1</td>\n",
              "      <td>0</td>\n",
              "      <td>0</td>\n",
              "      <td>1</td>\n",
              "      <td>0</td>\n",
              "      <td>0</td>\n",
              "      <td>0</td>\n",
              "      <td>0</td>\n",
              "      <td>0</td>\n",
              "      <td>0</td>\n",
              "      <td>1</td>\n",
              "      <td>0</td>\n",
              "      <td>0</td>\n",
              "      <td>0</td>\n",
              "      <td>1</td>\n",
              "      <td>0</td>\n",
              "      <td>0</td>\n",
              "      <td>0</td>\n",
              "      <td>0</td>\n",
              "    </tr>\n",
              "    <tr>\n",
              "      <th>1</th>\n",
              "      <td>3</td>\n",
              "      <td>0</td>\n",
              "      <td>2.000000</td>\n",
              "      <td>1</td>\n",
              "      <td>0</td>\n",
              "      <td>33.000000</td>\n",
              "      <td>0</td>\n",
              "      <td>20020</td>\n",
              "      <td>1</td>\n",
              "      <td>0</td>\n",
              "      <td>1</td>\n",
              "      <td>0</td>\n",
              "      <td>0</td>\n",
              "      <td>1</td>\n",
              "      <td>1.000000</td>\n",
              "      <td>1</td>\n",
              "      <td>0</td>\n",
              "      <td>0</td>\n",
              "      <td>0</td>\n",
              "      <td>0</td>\n",
              "      <td>NaN</td>\n",
              "      <td>3</td>\n",
              "      <td>＊最後までご覧いただき、ありがとうございます＊&lt;BR&gt;&lt;BR&gt;「わたしでもチャレンジできるか...</td>\n",
              "      <td>5</td>\n",
              "      <td>1</td>\n",
              "      <td>0</td>\n",
              "      <td>0</td>\n",
              "      <td>1</td>\n",
              "      <td>0</td>\n",
              "      <td>1</td>\n",
              "      <td>0</td>\n",
              "      <td>東京都千代田区</td>\n",
              "      <td>1</td>\n",
              "      <td>1</td>\n",
              "      <td>1</td>\n",
              "      <td>0</td>\n",
              "      <td>0</td>\n",
              "      <td>1</td>\n",
              "      <td>0</td>\n",
              "      <td>1</td>\n",
              "      <td>...</td>\n",
              "      <td>0</td>\n",
              "      <td>0</td>\n",
              "      <td>0</td>\n",
              "      <td>0</td>\n",
              "      <td>0</td>\n",
              "      <td>0</td>\n",
              "      <td>0</td>\n",
              "      <td>0</td>\n",
              "      <td>0</td>\n",
              "      <td>0</td>\n",
              "      <td>0</td>\n",
              "      <td>0</td>\n",
              "      <td>1</td>\n",
              "      <td>0</td>\n",
              "      <td>0</td>\n",
              "      <td>0</td>\n",
              "      <td>0</td>\n",
              "      <td>0</td>\n",
              "      <td>0</td>\n",
              "      <td>0</td>\n",
              "      <td>1</td>\n",
              "      <td>0</td>\n",
              "      <td>0</td>\n",
              "      <td>0</td>\n",
              "      <td>0</td>\n",
              "      <td>0</td>\n",
              "      <td>0</td>\n",
              "      <td>1</td>\n",
              "      <td>0</td>\n",
              "      <td>0</td>\n",
              "      <td>0</td>\n",
              "      <td>0</td>\n",
              "      <td>0</td>\n",
              "      <td>0</td>\n",
              "      <td>0</td>\n",
              "      <td>0</td>\n",
              "      <td>0</td>\n",
              "      <td>0</td>\n",
              "      <td>0</td>\n",
              "      <td>1</td>\n",
              "    </tr>\n",
              "    <tr>\n",
              "      <th>2</th>\n",
              "      <td>3</td>\n",
              "      <td>0</td>\n",
              "      <td>2.000000</td>\n",
              "      <td>1</td>\n",
              "      <td>0</td>\n",
              "      <td>33.000000</td>\n",
              "      <td>0</td>\n",
              "      <td>20020</td>\n",
              "      <td>1</td>\n",
              "      <td>0</td>\n",
              "      <td>1</td>\n",
              "      <td>0</td>\n",
              "      <td>0</td>\n",
              "      <td>1</td>\n",
              "      <td>1.000000</td>\n",
              "      <td>1</td>\n",
              "      <td>0</td>\n",
              "      <td>0</td>\n",
              "      <td>0</td>\n",
              "      <td>0</td>\n",
              "      <td>NaN</td>\n",
              "      <td>3</td>\n",
              "      <td>＊最後までご覧いただき、ありがとうございます＊&lt;BR&gt;&lt;BR&gt;「わたしでもチャレンジできるか...</td>\n",
              "      <td>5</td>\n",
              "      <td>1</td>\n",
              "      <td>0</td>\n",
              "      <td>0</td>\n",
              "      <td>1</td>\n",
              "      <td>0</td>\n",
              "      <td>1</td>\n",
              "      <td>0</td>\n",
              "      <td>東京都千代田区</td>\n",
              "      <td>1</td>\n",
              "      <td>1</td>\n",
              "      <td>1</td>\n",
              "      <td>0</td>\n",
              "      <td>0</td>\n",
              "      <td>1</td>\n",
              "      <td>0</td>\n",
              "      <td>1</td>\n",
              "      <td>...</td>\n",
              "      <td>0</td>\n",
              "      <td>0</td>\n",
              "      <td>0</td>\n",
              "      <td>0</td>\n",
              "      <td>0</td>\n",
              "      <td>0</td>\n",
              "      <td>0</td>\n",
              "      <td>0</td>\n",
              "      <td>0</td>\n",
              "      <td>0</td>\n",
              "      <td>0</td>\n",
              "      <td>0</td>\n",
              "      <td>1</td>\n",
              "      <td>0</td>\n",
              "      <td>0</td>\n",
              "      <td>0</td>\n",
              "      <td>0</td>\n",
              "      <td>0</td>\n",
              "      <td>0</td>\n",
              "      <td>0</td>\n",
              "      <td>1</td>\n",
              "      <td>0</td>\n",
              "      <td>0</td>\n",
              "      <td>0</td>\n",
              "      <td>0</td>\n",
              "      <td>0</td>\n",
              "      <td>0</td>\n",
              "      <td>1</td>\n",
              "      <td>0</td>\n",
              "      <td>0</td>\n",
              "      <td>0</td>\n",
              "      <td>0</td>\n",
              "      <td>0</td>\n",
              "      <td>0</td>\n",
              "      <td>0</td>\n",
              "      <td>0</td>\n",
              "      <td>0</td>\n",
              "      <td>0</td>\n",
              "      <td>0</td>\n",
              "      <td>1</td>\n",
              "    </tr>\n",
              "    <tr>\n",
              "      <th>3</th>\n",
              "      <td>2</td>\n",
              "      <td>0</td>\n",
              "      <td>8.000000</td>\n",
              "      <td>0</td>\n",
              "      <td>0</td>\n",
              "      <td>5.000000</td>\n",
              "      <td>1</td>\n",
              "      <td>20020</td>\n",
              "      <td>0</td>\n",
              "      <td>0</td>\n",
              "      <td>0</td>\n",
              "      <td>1</td>\n",
              "      <td>0</td>\n",
              "      <td>1</td>\n",
              "      <td>6.000000</td>\n",
              "      <td>0</td>\n",
              "      <td>0</td>\n",
              "      <td>0</td>\n",
              "      <td>0</td>\n",
              "      <td>0</td>\n",
              "      <td>NaN</td>\n",
              "      <td>3</td>\n",
              "      <td>＊最後までご覧いただき、ありがとうございます＊&lt;BR&gt;&lt;BR&gt;「わたしでもチャレンジできるか...</td>\n",
              "      <td>5</td>\n",
              "      <td>1</td>\n",
              "      <td>0</td>\n",
              "      <td>0</td>\n",
              "      <td>1</td>\n",
              "      <td>0</td>\n",
              "      <td>1</td>\n",
              "      <td>0</td>\n",
              "      <td>東京都中央区</td>\n",
              "      <td>1</td>\n",
              "      <td>1</td>\n",
              "      <td>0</td>\n",
              "      <td>0</td>\n",
              "      <td>0</td>\n",
              "      <td>1</td>\n",
              "      <td>0</td>\n",
              "      <td>1</td>\n",
              "      <td>...</td>\n",
              "      <td>0</td>\n",
              "      <td>0</td>\n",
              "      <td>0</td>\n",
              "      <td>0</td>\n",
              "      <td>0</td>\n",
              "      <td>0</td>\n",
              "      <td>0</td>\n",
              "      <td>0</td>\n",
              "      <td>0</td>\n",
              "      <td>0</td>\n",
              "      <td>0</td>\n",
              "      <td>0</td>\n",
              "      <td>1</td>\n",
              "      <td>0</td>\n",
              "      <td>0</td>\n",
              "      <td>0</td>\n",
              "      <td>0</td>\n",
              "      <td>0</td>\n",
              "      <td>0</td>\n",
              "      <td>0</td>\n",
              "      <td>1</td>\n",
              "      <td>0</td>\n",
              "      <td>0</td>\n",
              "      <td>0</td>\n",
              "      <td>0</td>\n",
              "      <td>0</td>\n",
              "      <td>0</td>\n",
              "      <td>0</td>\n",
              "      <td>0</td>\n",
              "      <td>0</td>\n",
              "      <td>1</td>\n",
              "      <td>0</td>\n",
              "      <td>0</td>\n",
              "      <td>0</td>\n",
              "      <td>0</td>\n",
              "      <td>1</td>\n",
              "      <td>0</td>\n",
              "      <td>0</td>\n",
              "      <td>0</td>\n",
              "      <td>0</td>\n",
              "    </tr>\n",
              "    <tr>\n",
              "      <th>4</th>\n",
              "      <td>2</td>\n",
              "      <td>0</td>\n",
              "      <td>8.000000</td>\n",
              "      <td>0</td>\n",
              "      <td>0</td>\n",
              "      <td>5.000000</td>\n",
              "      <td>1</td>\n",
              "      <td>20020</td>\n",
              "      <td>0</td>\n",
              "      <td>0</td>\n",
              "      <td>0</td>\n",
              "      <td>1</td>\n",
              "      <td>0</td>\n",
              "      <td>1</td>\n",
              "      <td>6.000000</td>\n",
              "      <td>0</td>\n",
              "      <td>0</td>\n",
              "      <td>0</td>\n",
              "      <td>0</td>\n",
              "      <td>0</td>\n",
              "      <td>NaN</td>\n",
              "      <td>3</td>\n",
              "      <td>＊最後までご覧いただき、ありがとうございます＊&lt;BR&gt;&lt;BR&gt;「わたしでもチャレンジできるか...</td>\n",
              "      <td>5</td>\n",
              "      <td>1</td>\n",
              "      <td>0</td>\n",
              "      <td>0</td>\n",
              "      <td>1</td>\n",
              "      <td>0</td>\n",
              "      <td>1</td>\n",
              "      <td>0</td>\n",
              "      <td>東京都中央区</td>\n",
              "      <td>1</td>\n",
              "      <td>1</td>\n",
              "      <td>0</td>\n",
              "      <td>0</td>\n",
              "      <td>0</td>\n",
              "      <td>1</td>\n",
              "      <td>0</td>\n",
              "      <td>1</td>\n",
              "      <td>...</td>\n",
              "      <td>0</td>\n",
              "      <td>0</td>\n",
              "      <td>0</td>\n",
              "      <td>0</td>\n",
              "      <td>0</td>\n",
              "      <td>0</td>\n",
              "      <td>0</td>\n",
              "      <td>0</td>\n",
              "      <td>0</td>\n",
              "      <td>0</td>\n",
              "      <td>0</td>\n",
              "      <td>0</td>\n",
              "      <td>1</td>\n",
              "      <td>0</td>\n",
              "      <td>0</td>\n",
              "      <td>0</td>\n",
              "      <td>0</td>\n",
              "      <td>0</td>\n",
              "      <td>0</td>\n",
              "      <td>0</td>\n",
              "      <td>1</td>\n",
              "      <td>0</td>\n",
              "      <td>0</td>\n",
              "      <td>0</td>\n",
              "      <td>0</td>\n",
              "      <td>0</td>\n",
              "      <td>0</td>\n",
              "      <td>0</td>\n",
              "      <td>0</td>\n",
              "      <td>0</td>\n",
              "      <td>1</td>\n",
              "      <td>0</td>\n",
              "      <td>0</td>\n",
              "      <td>0</td>\n",
              "      <td>0</td>\n",
              "      <td>1</td>\n",
              "      <td>0</td>\n",
              "      <td>0</td>\n",
              "      <td>0</td>\n",
              "      <td>0</td>\n",
              "    </tr>\n",
              "    <tr>\n",
              "      <th>...</th>\n",
              "      <td>...</td>\n",
              "      <td>...</td>\n",
              "      <td>...</td>\n",
              "      <td>...</td>\n",
              "      <td>...</td>\n",
              "      <td>...</td>\n",
              "      <td>...</td>\n",
              "      <td>...</td>\n",
              "      <td>...</td>\n",
              "      <td>...</td>\n",
              "      <td>...</td>\n",
              "      <td>...</td>\n",
              "      <td>...</td>\n",
              "      <td>...</td>\n",
              "      <td>...</td>\n",
              "      <td>...</td>\n",
              "      <td>...</td>\n",
              "      <td>...</td>\n",
              "      <td>...</td>\n",
              "      <td>...</td>\n",
              "      <td>...</td>\n",
              "      <td>...</td>\n",
              "      <td>...</td>\n",
              "      <td>...</td>\n",
              "      <td>...</td>\n",
              "      <td>...</td>\n",
              "      <td>...</td>\n",
              "      <td>...</td>\n",
              "      <td>...</td>\n",
              "      <td>...</td>\n",
              "      <td>...</td>\n",
              "      <td>...</td>\n",
              "      <td>...</td>\n",
              "      <td>...</td>\n",
              "      <td>...</td>\n",
              "      <td>...</td>\n",
              "      <td>...</td>\n",
              "      <td>...</td>\n",
              "      <td>...</td>\n",
              "      <td>...</td>\n",
              "      <td>...</td>\n",
              "      <td>...</td>\n",
              "      <td>...</td>\n",
              "      <td>...</td>\n",
              "      <td>...</td>\n",
              "      <td>...</td>\n",
              "      <td>...</td>\n",
              "      <td>...</td>\n",
              "      <td>...</td>\n",
              "      <td>...</td>\n",
              "      <td>...</td>\n",
              "      <td>...</td>\n",
              "      <td>...</td>\n",
              "      <td>...</td>\n",
              "      <td>...</td>\n",
              "      <td>...</td>\n",
              "      <td>...</td>\n",
              "      <td>...</td>\n",
              "      <td>...</td>\n",
              "      <td>...</td>\n",
              "      <td>...</td>\n",
              "      <td>...</td>\n",
              "      <td>...</td>\n",
              "      <td>...</td>\n",
              "      <td>...</td>\n",
              "      <td>...</td>\n",
              "      <td>...</td>\n",
              "      <td>...</td>\n",
              "      <td>...</td>\n",
              "      <td>...</td>\n",
              "      <td>...</td>\n",
              "      <td>...</td>\n",
              "      <td>...</td>\n",
              "      <td>...</td>\n",
              "      <td>...</td>\n",
              "      <td>...</td>\n",
              "      <td>...</td>\n",
              "      <td>...</td>\n",
              "      <td>...</td>\n",
              "      <td>...</td>\n",
              "      <td>...</td>\n",
              "    </tr>\n",
              "    <tr>\n",
              "      <th>14040</th>\n",
              "      <td>3</td>\n",
              "      <td>0</td>\n",
              "      <td>0.000000</td>\n",
              "      <td>0</td>\n",
              "      <td>0</td>\n",
              "      <td>12.000000</td>\n",
              "      <td>0</td>\n",
              "      <td>20040</td>\n",
              "      <td>1</td>\n",
              "      <td>0</td>\n",
              "      <td>1</td>\n",
              "      <td>0</td>\n",
              "      <td>0</td>\n",
              "      <td>1</td>\n",
              "      <td>6.000000</td>\n",
              "      <td>0</td>\n",
              "      <td>0</td>\n",
              "      <td>0</td>\n",
              "      <td>0</td>\n",
              "      <td>0</td>\n",
              "      <td>NaN</td>\n",
              "      <td>0</td>\n",
              "      <td>＊最後までご覧いただき、ありがとうございます＊&lt;BR&gt;&lt;BR&gt;「わたしでもチャレンジできるか...</td>\n",
              "      <td>5</td>\n",
              "      <td>0</td>\n",
              "      <td>0</td>\n",
              "      <td>0</td>\n",
              "      <td>1</td>\n",
              "      <td>1</td>\n",
              "      <td>0</td>\n",
              "      <td>0</td>\n",
              "      <td>静岡県静岡市葵区</td>\n",
              "      <td>1</td>\n",
              "      <td>1</td>\n",
              "      <td>0</td>\n",
              "      <td>0</td>\n",
              "      <td>0</td>\n",
              "      <td>1</td>\n",
              "      <td>0</td>\n",
              "      <td>1</td>\n",
              "      <td>...</td>\n",
              "      <td>0</td>\n",
              "      <td>0</td>\n",
              "      <td>0</td>\n",
              "      <td>0</td>\n",
              "      <td>0</td>\n",
              "      <td>0</td>\n",
              "      <td>0</td>\n",
              "      <td>0</td>\n",
              "      <td>0</td>\n",
              "      <td>0</td>\n",
              "      <td>0</td>\n",
              "      <td>0</td>\n",
              "      <td>0</td>\n",
              "      <td>0</td>\n",
              "      <td>1</td>\n",
              "      <td>0</td>\n",
              "      <td>0</td>\n",
              "      <td>0</td>\n",
              "      <td>0</td>\n",
              "      <td>0</td>\n",
              "      <td>0</td>\n",
              "      <td>1</td>\n",
              "      <td>0</td>\n",
              "      <td>0</td>\n",
              "      <td>0</td>\n",
              "      <td>0</td>\n",
              "      <td>0</td>\n",
              "      <td>0</td>\n",
              "      <td>0</td>\n",
              "      <td>0</td>\n",
              "      <td>0</td>\n",
              "      <td>1</td>\n",
              "      <td>0</td>\n",
              "      <td>0</td>\n",
              "      <td>0</td>\n",
              "      <td>0</td>\n",
              "      <td>0</td>\n",
              "      <td>0</td>\n",
              "      <td>0</td>\n",
              "      <td>1</td>\n",
              "    </tr>\n",
              "    <tr>\n",
              "      <th>14041</th>\n",
              "      <td>2</td>\n",
              "      <td>0</td>\n",
              "      <td>5.001063</td>\n",
              "      <td>0</td>\n",
              "      <td>0</td>\n",
              "      <td>14.186576</td>\n",
              "      <td>0</td>\n",
              "      <td>20040</td>\n",
              "      <td>1</td>\n",
              "      <td>1</td>\n",
              "      <td>0</td>\n",
              "      <td>0</td>\n",
              "      <td>0</td>\n",
              "      <td>0</td>\n",
              "      <td>15.000000</td>\n",
              "      <td>0</td>\n",
              "      <td>0</td>\n",
              "      <td>0</td>\n",
              "      <td>1</td>\n",
              "      <td>0</td>\n",
              "      <td>NaN</td>\n",
              "      <td>0</td>\n",
              "      <td>＊最後までご覧いただき、ありがとうございます＊&lt;BR&gt;&lt;BR&gt;「わたしでもチャレンジできるか...</td>\n",
              "      <td>3</td>\n",
              "      <td>0</td>\n",
              "      <td>1</td>\n",
              "      <td>0</td>\n",
              "      <td>0</td>\n",
              "      <td>1</td>\n",
              "      <td>0</td>\n",
              "      <td>0</td>\n",
              "      <td>静岡県浜松市東区</td>\n",
              "      <td>1</td>\n",
              "      <td>1</td>\n",
              "      <td>0</td>\n",
              "      <td>0</td>\n",
              "      <td>0</td>\n",
              "      <td>1</td>\n",
              "      <td>0</td>\n",
              "      <td>1</td>\n",
              "      <td>...</td>\n",
              "      <td>0</td>\n",
              "      <td>0</td>\n",
              "      <td>0</td>\n",
              "      <td>0</td>\n",
              "      <td>0</td>\n",
              "      <td>0</td>\n",
              "      <td>0</td>\n",
              "      <td>0</td>\n",
              "      <td>0</td>\n",
              "      <td>0</td>\n",
              "      <td>0</td>\n",
              "      <td>0</td>\n",
              "      <td>0</td>\n",
              "      <td>0</td>\n",
              "      <td>1</td>\n",
              "      <td>0</td>\n",
              "      <td>0</td>\n",
              "      <td>0</td>\n",
              "      <td>0</td>\n",
              "      <td>0</td>\n",
              "      <td>0</td>\n",
              "      <td>1</td>\n",
              "      <td>0</td>\n",
              "      <td>1</td>\n",
              "      <td>0</td>\n",
              "      <td>0</td>\n",
              "      <td>0</td>\n",
              "      <td>0</td>\n",
              "      <td>0</td>\n",
              "      <td>0</td>\n",
              "      <td>0</td>\n",
              "      <td>1</td>\n",
              "      <td>0</td>\n",
              "      <td>0</td>\n",
              "      <td>0</td>\n",
              "      <td>0</td>\n",
              "      <td>0</td>\n",
              "      <td>0</td>\n",
              "      <td>0</td>\n",
              "      <td>1</td>\n",
              "    </tr>\n",
              "    <tr>\n",
              "      <th>14042</th>\n",
              "      <td>3</td>\n",
              "      <td>0</td>\n",
              "      <td>8.000000</td>\n",
              "      <td>1</td>\n",
              "      <td>0</td>\n",
              "      <td>13.000000</td>\n",
              "      <td>0</td>\n",
              "      <td>20020</td>\n",
              "      <td>0</td>\n",
              "      <td>0</td>\n",
              "      <td>0</td>\n",
              "      <td>0</td>\n",
              "      <td>0</td>\n",
              "      <td>1</td>\n",
              "      <td>6.556764</td>\n",
              "      <td>0</td>\n",
              "      <td>0</td>\n",
              "      <td>0</td>\n",
              "      <td>0</td>\n",
              "      <td>1</td>\n",
              "      <td>NaN</td>\n",
              "      <td>0</td>\n",
              "      <td>＊最後までご覧いただき、ありがとうございます＊&lt;BR&gt;&lt;BR&gt;「わたしでもチャレンジできるか...</td>\n",
              "      <td>5</td>\n",
              "      <td>0</td>\n",
              "      <td>0</td>\n",
              "      <td>0</td>\n",
              "      <td>1</td>\n",
              "      <td>0</td>\n",
              "      <td>0</td>\n",
              "      <td>0</td>\n",
              "      <td>静岡県浜松市東区</td>\n",
              "      <td>1</td>\n",
              "      <td>0</td>\n",
              "      <td>0</td>\n",
              "      <td>1</td>\n",
              "      <td>0</td>\n",
              "      <td>0</td>\n",
              "      <td>0</td>\n",
              "      <td>0</td>\n",
              "      <td>...</td>\n",
              "      <td>0</td>\n",
              "      <td>0</td>\n",
              "      <td>0</td>\n",
              "      <td>0</td>\n",
              "      <td>0</td>\n",
              "      <td>0</td>\n",
              "      <td>0</td>\n",
              "      <td>0</td>\n",
              "      <td>0</td>\n",
              "      <td>0</td>\n",
              "      <td>0</td>\n",
              "      <td>0</td>\n",
              "      <td>0</td>\n",
              "      <td>0</td>\n",
              "      <td>1</td>\n",
              "      <td>0</td>\n",
              "      <td>0</td>\n",
              "      <td>0</td>\n",
              "      <td>0</td>\n",
              "      <td>0</td>\n",
              "      <td>0</td>\n",
              "      <td>1</td>\n",
              "      <td>0</td>\n",
              "      <td>0</td>\n",
              "      <td>1</td>\n",
              "      <td>0</td>\n",
              "      <td>0</td>\n",
              "      <td>0</td>\n",
              "      <td>0</td>\n",
              "      <td>0</td>\n",
              "      <td>0</td>\n",
              "      <td>1</td>\n",
              "      <td>0</td>\n",
              "      <td>0</td>\n",
              "      <td>0</td>\n",
              "      <td>1</td>\n",
              "      <td>0</td>\n",
              "      <td>0</td>\n",
              "      <td>0</td>\n",
              "      <td>0</td>\n",
              "    </tr>\n",
              "    <tr>\n",
              "      <th>14043</th>\n",
              "      <td>3</td>\n",
              "      <td>0</td>\n",
              "      <td>5.000000</td>\n",
              "      <td>0</td>\n",
              "      <td>0</td>\n",
              "      <td>12.000000</td>\n",
              "      <td>1</td>\n",
              "      <td>22030</td>\n",
              "      <td>0</td>\n",
              "      <td>0</td>\n",
              "      <td>1</td>\n",
              "      <td>0</td>\n",
              "      <td>0</td>\n",
              "      <td>1</td>\n",
              "      <td>4.000000</td>\n",
              "      <td>0</td>\n",
              "      <td>0</td>\n",
              "      <td>0</td>\n",
              "      <td>0</td>\n",
              "      <td>0</td>\n",
              "      <td>NaN</td>\n",
              "      <td>0</td>\n",
              "      <td>＊最後までご覧いただき、ありがとうございます＊&lt;BR&gt;&lt;BR&gt;「わたしでもチャレンジできるか...</td>\n",
              "      <td>3</td>\n",
              "      <td>0</td>\n",
              "      <td>0</td>\n",
              "      <td>0</td>\n",
              "      <td>1</td>\n",
              "      <td>0</td>\n",
              "      <td>0</td>\n",
              "      <td>0</td>\n",
              "      <td>静岡県静岡市葵区</td>\n",
              "      <td>1</td>\n",
              "      <td>1</td>\n",
              "      <td>0</td>\n",
              "      <td>0</td>\n",
              "      <td>0</td>\n",
              "      <td>1</td>\n",
              "      <td>0</td>\n",
              "      <td>1</td>\n",
              "      <td>...</td>\n",
              "      <td>0</td>\n",
              "      <td>0</td>\n",
              "      <td>0</td>\n",
              "      <td>0</td>\n",
              "      <td>0</td>\n",
              "      <td>0</td>\n",
              "      <td>0</td>\n",
              "      <td>0</td>\n",
              "      <td>0</td>\n",
              "      <td>0</td>\n",
              "      <td>0</td>\n",
              "      <td>0</td>\n",
              "      <td>0</td>\n",
              "      <td>0</td>\n",
              "      <td>1</td>\n",
              "      <td>0</td>\n",
              "      <td>0</td>\n",
              "      <td>0</td>\n",
              "      <td>0</td>\n",
              "      <td>0</td>\n",
              "      <td>0</td>\n",
              "      <td>1</td>\n",
              "      <td>0</td>\n",
              "      <td>0</td>\n",
              "      <td>0</td>\n",
              "      <td>0</td>\n",
              "      <td>0</td>\n",
              "      <td>0</td>\n",
              "      <td>0</td>\n",
              "      <td>0</td>\n",
              "      <td>0</td>\n",
              "      <td>1</td>\n",
              "      <td>0</td>\n",
              "      <td>0</td>\n",
              "      <td>0</td>\n",
              "      <td>0</td>\n",
              "      <td>0</td>\n",
              "      <td>0</td>\n",
              "      <td>0</td>\n",
              "      <td>1</td>\n",
              "    </tr>\n",
              "    <tr>\n",
              "      <th>14044</th>\n",
              "      <td>3</td>\n",
              "      <td>0</td>\n",
              "      <td>5.000000</td>\n",
              "      <td>0</td>\n",
              "      <td>0</td>\n",
              "      <td>12.000000</td>\n",
              "      <td>0</td>\n",
              "      <td>20020</td>\n",
              "      <td>0</td>\n",
              "      <td>0</td>\n",
              "      <td>1</td>\n",
              "      <td>0</td>\n",
              "      <td>0</td>\n",
              "      <td>1</td>\n",
              "      <td>4.000000</td>\n",
              "      <td>0</td>\n",
              "      <td>0</td>\n",
              "      <td>0</td>\n",
              "      <td>0</td>\n",
              "      <td>0</td>\n",
              "      <td>NaN</td>\n",
              "      <td>0</td>\n",
              "      <td>＊最後までご覧いただき、ありがとうございます＊&lt;BR&gt;&lt;BR&gt;「わたしでもチャレンジできるか...</td>\n",
              "      <td>5</td>\n",
              "      <td>0</td>\n",
              "      <td>0</td>\n",
              "      <td>0</td>\n",
              "      <td>1</td>\n",
              "      <td>0</td>\n",
              "      <td>0</td>\n",
              "      <td>1</td>\n",
              "      <td>静岡県静岡市葵区</td>\n",
              "      <td>1</td>\n",
              "      <td>1</td>\n",
              "      <td>0</td>\n",
              "      <td>0</td>\n",
              "      <td>0</td>\n",
              "      <td>0</td>\n",
              "      <td>0</td>\n",
              "      <td>0</td>\n",
              "      <td>...</td>\n",
              "      <td>0</td>\n",
              "      <td>0</td>\n",
              "      <td>0</td>\n",
              "      <td>0</td>\n",
              "      <td>0</td>\n",
              "      <td>0</td>\n",
              "      <td>0</td>\n",
              "      <td>0</td>\n",
              "      <td>0</td>\n",
              "      <td>0</td>\n",
              "      <td>0</td>\n",
              "      <td>0</td>\n",
              "      <td>0</td>\n",
              "      <td>0</td>\n",
              "      <td>1</td>\n",
              "      <td>0</td>\n",
              "      <td>0</td>\n",
              "      <td>0</td>\n",
              "      <td>0</td>\n",
              "      <td>0</td>\n",
              "      <td>0</td>\n",
              "      <td>1</td>\n",
              "      <td>0</td>\n",
              "      <td>0</td>\n",
              "      <td>0</td>\n",
              "      <td>0</td>\n",
              "      <td>0</td>\n",
              "      <td>0</td>\n",
              "      <td>0</td>\n",
              "      <td>0</td>\n",
              "      <td>0</td>\n",
              "      <td>1</td>\n",
              "      <td>0</td>\n",
              "      <td>0</td>\n",
              "      <td>0</td>\n",
              "      <td>0</td>\n",
              "      <td>0</td>\n",
              "      <td>0</td>\n",
              "      <td>0</td>\n",
              "      <td>1</td>\n",
              "    </tr>\n",
              "  </tbody>\n",
              "</table>\n",
              "<p>14045 rows × 154 columns</p>\n",
              "</div>"
            ],
            "text/plain": [
              "       職場の様子  休日休暇(月曜日)  ...  dummy延長可能性：有  dummynan\n",
              "0          3          0  ...             0         0\n",
              "1          3          0  ...             0         1\n",
              "2          3          0  ...             0         1\n",
              "3          2          0  ...             0         0\n",
              "4          2          0  ...             0         0\n",
              "...      ...        ...  ...           ...       ...\n",
              "14040      3          0  ...             0         1\n",
              "14041      2          0  ...             0         1\n",
              "14042      3          0  ...             0         0\n",
              "14043      3          0  ...             0         1\n",
              "14044      3          0  ...             0         1\n",
              "\n",
              "[14045 rows x 154 columns]"
            ]
          },
          "metadata": {
            "tags": []
          },
          "execution_count": 561
        }
      ]
    },
    {
      "cell_type": "code",
      "metadata": {
        "id": "BH0gJDON_mo-"
      },
      "source": [
        "not_important_cols = [\"（派遣先）配属先部署\",\"給与/交通費　給与上限\",\"勤務地　最寄駅1（沿線名）\",\"（派遣）応募後の流れ\",\"勤務地　備考\",\"（派遣先）概要　勤務先名（漢字）\",\"（紹介予定）待遇・福利厚生\",\"勤務地　備考\",\"扶養控除内\",\"休日休暇(月曜日)\",\"Excelのスキルを活かす\",\"（派遣先）配属先部署　男女比　女\",\"WEB登録OK\",\"派遣形態\",\"給与/交通費　交通費\",\"土日祝のみ勤務\",\"経験者優遇\",\"PCスキル不要\",\"英語以外の語学力を活かす\",\"紹介予定派遣\",\"応募資格\",\"仕事内容\"]\n",
        "X = X.drop(not_important_cols,axis=1)\n",
        "test_x = test_x.drop(not_important_cols,axis=1)"
      ],
      "execution_count": 562,
      "outputs": []
    },
    {
      "cell_type": "code",
      "metadata": {
        "id": "yMj_8i7VAQNH"
      },
      "source": [
        "X = X.drop(X.columns[np.isnan(X).any()], axis=1)\n",
        "test_x = test_x.dropna(how='all').dropna(how='all', axis=1)"
      ],
      "execution_count": 563,
      "outputs": []
    },
    {
      "cell_type": "code",
      "metadata": {
        "id": "J9-DIL0-YErO"
      },
      "source": [
        "def fill_missing_columns(df_a, df_b):\n",
        "    columns_for_b = set(df_a.columns) - set(df_b.columns)\n",
        "    for column in columns_for_b:\n",
        "        df_b[column] = 0\n",
        "    columns_for_a = set(df_b.columns) - set(df_a.columns)\n",
        "    for column in columns_for_a:\n",
        "        df_a[column] = 0\n",
        "\n",
        "fill_missing_columns(X, test_x)\n",
        "\n",
        "X.sort_index(axis=1, inplace=True)\n",
        "test_x.sort_index(axis=1, inplace=True)"
      ],
      "execution_count": 564,
      "outputs": []
    },
    {
      "cell_type": "code",
      "metadata": {
        "id": "wNinQAYoYffq"
      },
      "source": [
        "from sklearn import preprocessing\n",
        "X = X.values \n",
        "min_max_scaler = preprocessing.MinMaxScaler()\n",
        "X_scaled = min_max_scaler.fit_transform(X)\n",
        "X = pd.DataFrame(X_scaled)"
      ],
      "execution_count": 565,
      "outputs": []
    },
    {
      "cell_type": "code",
      "metadata": {
        "id": "yggiOaCcY1Ex"
      },
      "source": [
        "test_x = test_x.values\n",
        "tx_scaled = min_max_scaler.fit_transform(test_x)\n",
        "test_x = pd.DataFrame(tx_scaled)"
      ],
      "execution_count": 566,
      "outputs": []
    },
    {
      "cell_type": "code",
      "metadata": {
        "id": "ILAN_tbR29AJ"
      },
      "source": [
        "from sklearn.model_selection import train_test_split"
      ],
      "execution_count": 567,
      "outputs": []
    },
    {
      "cell_type": "code",
      "metadata": {
        "id": "LYLUFuSM2_mN"
      },
      "source": [
        "X_train,X_test,y_train,y_test = train_test_split(X, y,test_size=0.4,random_state=0)"
      ],
      "execution_count": 568,
      "outputs": []
    },
    {
      "cell_type": "code",
      "metadata": {
        "id": "WKjMuH63cFCj"
      },
      "source": [
        "import lightgbm as lgb"
      ],
      "execution_count": 569,
      "outputs": []
    },
    {
      "cell_type": "code",
      "metadata": {
        "id": "RrYmikS2cIx3"
      },
      "source": [
        "lgb_train = lgb.Dataset(X_train, y_train)\n",
        "lgb_eval = lgb.Dataset(X_test, y_test)"
      ],
      "execution_count": 570,
      "outputs": []
    },
    {
      "cell_type": "code",
      "metadata": {
        "id": "A4pUHIig3CZa"
      },
      "source": [
        "lgbm_params = {\n",
        "        # 回帰問題\n",
        "        'objective': 'regression',\n",
        "        # RMSE (平均二乗誤差平方根) の最小化を目指す\n",
        "        'metric': 'rmse',\n",
        "    }"
      ],
      "execution_count": 571,
      "outputs": []
    },
    {
      "cell_type": "code",
      "metadata": {
        "id": "gxVdkDUd3GPH",
        "colab": {
          "base_uri": "https://localhost:8080/"
        },
        "outputId": "89735320-e94c-4209-cf03-d2fd9f42a3fd"
      },
      "source": [
        "model = lgb.train(lgbm_params, lgb_train, valid_sets=lgb_eval)"
      ],
      "execution_count": 572,
      "outputs": [
        {
          "output_type": "stream",
          "text": [
            "[1]\tvalid_0's rmse: 0.785062\n",
            "[2]\tvalid_0's rmse: 0.77236\n",
            "[3]\tvalid_0's rmse: 0.761298\n",
            "[4]\tvalid_0's rmse: 0.75276\n",
            "[5]\tvalid_0's rmse: 0.745514\n",
            "[6]\tvalid_0's rmse: 0.738068\n",
            "[7]\tvalid_0's rmse: 0.73243\n",
            "[8]\tvalid_0's rmse: 0.726993\n",
            "[9]\tvalid_0's rmse: 0.722318\n",
            "[10]\tvalid_0's rmse: 0.71848\n",
            "[11]\tvalid_0's rmse: 0.715337\n",
            "[12]\tvalid_0's rmse: 0.711687\n",
            "[13]\tvalid_0's rmse: 0.708737\n",
            "[14]\tvalid_0's rmse: 0.707001\n",
            "[15]\tvalid_0's rmse: 0.704405\n",
            "[16]\tvalid_0's rmse: 0.702219\n",
            "[17]\tvalid_0's rmse: 0.700643\n",
            "[18]\tvalid_0's rmse: 0.699526\n",
            "[19]\tvalid_0's rmse: 0.697902\n",
            "[20]\tvalid_0's rmse: 0.696974\n",
            "[21]\tvalid_0's rmse: 0.696078\n",
            "[22]\tvalid_0's rmse: 0.693904\n",
            "[23]\tvalid_0's rmse: 0.691901\n",
            "[24]\tvalid_0's rmse: 0.690254\n",
            "[25]\tvalid_0's rmse: 0.688139\n",
            "[26]\tvalid_0's rmse: 0.686575\n",
            "[27]\tvalid_0's rmse: 0.685232\n",
            "[28]\tvalid_0's rmse: 0.683883\n",
            "[29]\tvalid_0's rmse: 0.683077\n",
            "[30]\tvalid_0's rmse: 0.682125\n",
            "[31]\tvalid_0's rmse: 0.681768\n",
            "[32]\tvalid_0's rmse: 0.680713\n",
            "[33]\tvalid_0's rmse: 0.679915\n",
            "[34]\tvalid_0's rmse: 0.679265\n",
            "[35]\tvalid_0's rmse: 0.678151\n",
            "[36]\tvalid_0's rmse: 0.677619\n",
            "[37]\tvalid_0's rmse: 0.677002\n",
            "[38]\tvalid_0's rmse: 0.676622\n",
            "[39]\tvalid_0's rmse: 0.676177\n",
            "[40]\tvalid_0's rmse: 0.675461\n",
            "[41]\tvalid_0's rmse: 0.67463\n",
            "[42]\tvalid_0's rmse: 0.673967\n",
            "[43]\tvalid_0's rmse: 0.673255\n",
            "[44]\tvalid_0's rmse: 0.672751\n",
            "[45]\tvalid_0's rmse: 0.672391\n",
            "[46]\tvalid_0's rmse: 0.671652\n",
            "[47]\tvalid_0's rmse: 0.671257\n",
            "[48]\tvalid_0's rmse: 0.670835\n",
            "[49]\tvalid_0's rmse: 0.670533\n",
            "[50]\tvalid_0's rmse: 0.669869\n",
            "[51]\tvalid_0's rmse: 0.669503\n",
            "[52]\tvalid_0's rmse: 0.669172\n",
            "[53]\tvalid_0's rmse: 0.668561\n",
            "[54]\tvalid_0's rmse: 0.668809\n",
            "[55]\tvalid_0's rmse: 0.668521\n",
            "[56]\tvalid_0's rmse: 0.668322\n",
            "[57]\tvalid_0's rmse: 0.667862\n",
            "[58]\tvalid_0's rmse: 0.667372\n",
            "[59]\tvalid_0's rmse: 0.667293\n",
            "[60]\tvalid_0's rmse: 0.666989\n",
            "[61]\tvalid_0's rmse: 0.666745\n",
            "[62]\tvalid_0's rmse: 0.666639\n",
            "[63]\tvalid_0's rmse: 0.666497\n",
            "[64]\tvalid_0's rmse: 0.666567\n",
            "[65]\tvalid_0's rmse: 0.666204\n",
            "[66]\tvalid_0's rmse: 0.665936\n",
            "[67]\tvalid_0's rmse: 0.665693\n",
            "[68]\tvalid_0's rmse: 0.665424\n",
            "[69]\tvalid_0's rmse: 0.665384\n",
            "[70]\tvalid_0's rmse: 0.665236\n",
            "[71]\tvalid_0's rmse: 0.665015\n",
            "[72]\tvalid_0's rmse: 0.664779\n",
            "[73]\tvalid_0's rmse: 0.664779\n",
            "[74]\tvalid_0's rmse: 0.664436\n",
            "[75]\tvalid_0's rmse: 0.664449\n",
            "[76]\tvalid_0's rmse: 0.664216\n",
            "[77]\tvalid_0's rmse: 0.663842\n",
            "[78]\tvalid_0's rmse: 0.663665\n",
            "[79]\tvalid_0's rmse: 0.663651\n",
            "[80]\tvalid_0's rmse: 0.663384\n",
            "[81]\tvalid_0's rmse: 0.663306\n",
            "[82]\tvalid_0's rmse: 0.663079\n",
            "[83]\tvalid_0's rmse: 0.66287\n",
            "[84]\tvalid_0's rmse: 0.662786\n",
            "[85]\tvalid_0's rmse: 0.66251\n",
            "[86]\tvalid_0's rmse: 0.662414\n",
            "[87]\tvalid_0's rmse: 0.662071\n",
            "[88]\tvalid_0's rmse: 0.661901\n",
            "[89]\tvalid_0's rmse: 0.661552\n",
            "[90]\tvalid_0's rmse: 0.6614\n",
            "[91]\tvalid_0's rmse: 0.661474\n",
            "[92]\tvalid_0's rmse: 0.661387\n",
            "[93]\tvalid_0's rmse: 0.661245\n",
            "[94]\tvalid_0's rmse: 0.661297\n",
            "[95]\tvalid_0's rmse: 0.661293\n",
            "[96]\tvalid_0's rmse: 0.660966\n",
            "[97]\tvalid_0's rmse: 0.66035\n",
            "[98]\tvalid_0's rmse: 0.660265\n",
            "[99]\tvalid_0's rmse: 0.660235\n",
            "[100]\tvalid_0's rmse: 0.660185\n"
          ],
          "name": "stdout"
        }
      ]
    },
    {
      "cell_type": "code",
      "metadata": {
        "id": "RlEog_EMcVxa",
        "colab": {
          "base_uri": "https://localhost:8080/",
          "height": 17
        },
        "outputId": "c39244a1-67ed-4593-f386-c45960bffeca"
      },
      "source": [
        "import pickle\n",
        "\n",
        "file = 'trained_model.pkl'\n",
        "pickle.dump(model, open(file, 'wb'))\n",
        "\n",
        "from google.colab import files\n",
        "files.download(\"trained_model.pkl\")"
      ],
      "execution_count": 573,
      "outputs": [
        {
          "output_type": "display_data",
          "data": {
            "application/javascript": [
              "\n",
              "    async function download(id, filename, size) {\n",
              "      if (!google.colab.kernel.accessAllowed) {\n",
              "        return;\n",
              "      }\n",
              "      const div = document.createElement('div');\n",
              "      const label = document.createElement('label');\n",
              "      label.textContent = `Downloading \"${filename}\": `;\n",
              "      div.appendChild(label);\n",
              "      const progress = document.createElement('progress');\n",
              "      progress.max = size;\n",
              "      div.appendChild(progress);\n",
              "      document.body.appendChild(div);\n",
              "\n",
              "      const buffers = [];\n",
              "      let downloaded = 0;\n",
              "\n",
              "      const channel = await google.colab.kernel.comms.open(id);\n",
              "      // Send a message to notify the kernel that we're ready.\n",
              "      channel.send({})\n",
              "\n",
              "      for await (const message of channel.messages) {\n",
              "        // Send a message to notify the kernel that we're ready.\n",
              "        channel.send({})\n",
              "        if (message.buffers) {\n",
              "          for (const buffer of message.buffers) {\n",
              "            buffers.push(buffer);\n",
              "            downloaded += buffer.byteLength;\n",
              "            progress.value = downloaded;\n",
              "          }\n",
              "        }\n",
              "      }\n",
              "      const blob = new Blob(buffers, {type: 'application/binary'});\n",
              "      const a = document.createElement('a');\n",
              "      a.href = window.URL.createObjectURL(blob);\n",
              "      a.download = filename;\n",
              "      div.appendChild(a);\n",
              "      a.click();\n",
              "      div.remove();\n",
              "    }\n",
              "  "
            ],
            "text/plain": [
              "<IPython.core.display.Javascript object>"
            ]
          },
          "metadata": {
            "tags": []
          }
        },
        {
          "output_type": "display_data",
          "data": {
            "application/javascript": [
              "download(\"download_83602fbf-a434-44e5-8a34-cee312a5edc3\", \"trained_model.pkl\", 265855)"
            ],
            "text/plain": [
              "<IPython.core.display.Javascript object>"
            ]
          },
          "metadata": {
            "tags": []
          }
        }
      ]
    },
    {
      "cell_type": "code",
      "metadata": {
        "id": "Qirx2olKcYh2",
        "colab": {
          "base_uri": "https://localhost:8080/"
        },
        "outputId": "59671c2a-e6b7-43d6-a118-3989801c2ab4"
      },
      "source": [
        "y_pred = model.predict(X_test, num_iteration=model.best_iteration)\n",
        "y_pred"
      ],
      "execution_count": 574,
      "outputs": [
        {
          "output_type": "execute_result",
          "data": {
            "text/plain": [
              "array([0.7846008 , 0.16207535, 0.76256152, ..., 0.76163271, 0.38067014,\n",
              "       0.0229405 ])"
            ]
          },
          "metadata": {
            "tags": []
          },
          "execution_count": 574
        }
      ]
    },
    {
      "cell_type": "code",
      "metadata": {
        "id": "PSfM4qyEcbIi",
        "colab": {
          "base_uri": "https://localhost:8080/"
        },
        "outputId": "7cff4788-8bc8-4ad8-992b-9038654dab6a"
      },
      "source": [
        "from sklearn.metrics import mean_squared_error\n",
        "mse = mean_squared_error(y_test, y_pred)\n",
        "rmse = np.sqrt(mse)\n",
        "print(rmse)"
      ],
      "execution_count": 575,
      "outputs": [
        {
          "output_type": "stream",
          "text": [
            "0.6601845856700239\n"
          ],
          "name": "stdout"
        }
      ]
    },
    {
      "cell_type": "code",
      "metadata": {
        "id": "aJ9K0b1mcd95",
        "colab": {
          "base_uri": "https://localhost:8080/",
          "height": 17
        },
        "outputId": "ddf6b9a0-4cf3-422a-9de0-97204ceb3846"
      },
      "source": [
        "pred_comp = pd.DataFrame({\"テスト\":y_test,\n",
        "                         \"予測\":y_pred})\n",
        "pred_comp.to_csv(\"pred_comp2.csv\",index=False)\n",
        "from google.colab import files\n",
        "files.download(\"pred_comp2.csv\")"
      ],
      "execution_count": 576,
      "outputs": [
        {
          "output_type": "display_data",
          "data": {
            "application/javascript": [
              "\n",
              "    async function download(id, filename, size) {\n",
              "      if (!google.colab.kernel.accessAllowed) {\n",
              "        return;\n",
              "      }\n",
              "      const div = document.createElement('div');\n",
              "      const label = document.createElement('label');\n",
              "      label.textContent = `Downloading \"${filename}\": `;\n",
              "      div.appendChild(label);\n",
              "      const progress = document.createElement('progress');\n",
              "      progress.max = size;\n",
              "      div.appendChild(progress);\n",
              "      document.body.appendChild(div);\n",
              "\n",
              "      const buffers = [];\n",
              "      let downloaded = 0;\n",
              "\n",
              "      const channel = await google.colab.kernel.comms.open(id);\n",
              "      // Send a message to notify the kernel that we're ready.\n",
              "      channel.send({})\n",
              "\n",
              "      for await (const message of channel.messages) {\n",
              "        // Send a message to notify the kernel that we're ready.\n",
              "        channel.send({})\n",
              "        if (message.buffers) {\n",
              "          for (const buffer of message.buffers) {\n",
              "            buffers.push(buffer);\n",
              "            downloaded += buffer.byteLength;\n",
              "            progress.value = downloaded;\n",
              "          }\n",
              "        }\n",
              "      }\n",
              "      const blob = new Blob(buffers, {type: 'application/binary'});\n",
              "      const a = document.createElement('a');\n",
              "      a.href = window.URL.createObjectURL(blob);\n",
              "      a.download = filename;\n",
              "      div.appendChild(a);\n",
              "      a.click();\n",
              "      div.remove();\n",
              "    }\n",
              "  "
            ],
            "text/plain": [
              "<IPython.core.display.Javascript object>"
            ]
          },
          "metadata": {
            "tags": []
          }
        },
        {
          "output_type": "display_data",
          "data": {
            "application/javascript": [
              "download(\"download_1712a59b-2bbb-4239-949f-2f2000bbca46\", \"pred_comp2.csv\", 166601)"
            ],
            "text/plain": [
              "<IPython.core.display.Javascript object>"
            ]
          },
          "metadata": {
            "tags": []
          }
        }
      ]
    },
    {
      "cell_type": "code",
      "metadata": {
        "id": "fs_fCCz9Bv3B",
        "colab": {
          "base_uri": "https://localhost:8080/",
          "height": 454
        },
        "outputId": "0e86182e-1bd4-4ab6-c922-0fd368f2ab52"
      },
      "source": [
        "cols = list(X.columns)         \n",
        "f_importance = np.array(model.feature_importance()) # 特徴量重要度の算出\n",
        "f_importance = f_importance / np.sum(f_importance) \n",
        "df_importance = pd.DataFrame({'feature':cols, 'importance':f_importance})\n",
        "df_importance = df_importance.sort_values('importance', ascending=False) # 降順ソート\n",
        "display(df_importance)\n",
        "\n",
        "''' cols = list(train_data.drop([\"お仕事No.\",\"応募数 合計\",\"勤務地　備考\",\"（紹介予定）待遇・福利厚生\",\"（派遣先）配属先部署\",\"勤務地　最寄駅1（沿線名）\",\"（派遣先）概要　勤務先名（漢字）\",\"扶養控除内\",\"休日休暇(月曜日)\",\"Excelのスキルを活かす\",\"（派遣先）配属先部署　男女比　女\",\"WEB登録OK\",\"正社員登用あり\",\"派遣形態\",\"給与/交通費　交通費\",\"土日祝休み\",\"土日祝のみ勤務\",\"経験者優遇\",\"PCスキル不要\",\"英語以外の語学力を活かす\",\"紹介予定派遣\",\"dummy105山形\",\"dummy212千葉\"],axis=1).columns)         \n",
        "f_importance = np.array(model.feature_importance()) # 特徴量重要度の算出\n",
        "f_importance = f_importance / np.sum(f_importance) \n",
        "''' \n",
        "''' print(len(cols))\n",
        "print(f_importance.shape)\n",
        "print(cols[00])  '''\n",
        "\n",
        "'''\n",
        "df_importance = pd.DataFrame({'feature':cols, 'importance':f_importance})\n",
        "df_importance = df_importance.sort_values('importance', ascending=False) # 降順ソート\n",
        "display(df_importance) '''"
      ],
      "execution_count": 577,
      "outputs": [
        {
          "output_type": "display_data",
          "data": {
            "text/html": [
              "<div>\n",
              "<style scoped>\n",
              "    .dataframe tbody tr th:only-of-type {\n",
              "        vertical-align: middle;\n",
              "    }\n",
              "\n",
              "    .dataframe tbody tr th {\n",
              "        vertical-align: top;\n",
              "    }\n",
              "\n",
              "    .dataframe thead th {\n",
              "        text-align: right;\n",
              "    }\n",
              "</style>\n",
              "<table border=\"1\" class=\"dataframe\">\n",
              "  <thead>\n",
              "    <tr style=\"text-align: right;\">\n",
              "      <th></th>\n",
              "      <th>feature</th>\n",
              "      <th>importance</th>\n",
              "    </tr>\n",
              "  </thead>\n",
              "  <tbody>\n",
              "    <tr>\n",
              "      <th>122</th>\n",
              "      <td>122</td>\n",
              "      <td>0.117333</td>\n",
              "    </tr>\n",
              "    <tr>\n",
              "      <th>102</th>\n",
              "      <td>102</td>\n",
              "      <td>0.095333</td>\n",
              "    </tr>\n",
              "    <tr>\n",
              "      <th>131</th>\n",
              "      <td>131</td>\n",
              "      <td>0.076667</td>\n",
              "    </tr>\n",
              "    <tr>\n",
              "      <th>124</th>\n",
              "      <td>124</td>\n",
              "      <td>0.074000</td>\n",
              "    </tr>\n",
              "    <tr>\n",
              "      <th>132</th>\n",
              "      <td>132</td>\n",
              "      <td>0.066667</td>\n",
              "    </tr>\n",
              "    <tr>\n",
              "      <th>...</th>\n",
              "      <td>...</td>\n",
              "      <td>...</td>\n",
              "    </tr>\n",
              "    <tr>\n",
              "      <th>68</th>\n",
              "      <td>68</td>\n",
              "      <td>0.000000</td>\n",
              "    </tr>\n",
              "    <tr>\n",
              "      <th>28</th>\n",
              "      <td>28</td>\n",
              "      <td>0.000000</td>\n",
              "    </tr>\n",
              "    <tr>\n",
              "      <th>66</th>\n",
              "      <td>66</td>\n",
              "      <td>0.000000</td>\n",
              "    </tr>\n",
              "    <tr>\n",
              "      <th>64</th>\n",
              "      <td>64</td>\n",
              "      <td>0.000000</td>\n",
              "    </tr>\n",
              "    <tr>\n",
              "      <th>67</th>\n",
              "      <td>67</td>\n",
              "      <td>0.000000</td>\n",
              "    </tr>\n",
              "  </tbody>\n",
              "</table>\n",
              "<p>134 rows × 2 columns</p>\n",
              "</div>"
            ],
            "text/plain": [
              "     feature  importance\n",
              "122      122    0.117333\n",
              "102      102    0.095333\n",
              "131      131    0.076667\n",
              "124      124    0.074000\n",
              "132      132    0.066667\n",
              "..       ...         ...\n",
              "68        68    0.000000\n",
              "28        28    0.000000\n",
              "66        66    0.000000\n",
              "64        64    0.000000\n",
              "67        67    0.000000\n",
              "\n",
              "[134 rows x 2 columns]"
            ]
          },
          "metadata": {
            "tags": []
          }
        },
        {
          "output_type": "execute_result",
          "data": {
            "application/vnd.google.colaboratory.intrinsic+json": {
              "type": "string"
            },
            "text/plain": [
              "\"\\ndf_importance = pd.DataFrame({'feature':cols, 'importance':f_importance})\\ndf_importance = df_importance.sort_values('importance', ascending=False) # 降順ソート\\ndisplay(df_importance) \""
            ]
          },
          "metadata": {
            "tags": []
          },
          "execution_count": 577
        }
      ]
    },
    {
      "cell_type": "code",
      "metadata": {
        "colab": {
          "base_uri": "https://localhost:8080/"
        },
        "id": "P6kUS8zkChMW",
        "outputId": "fcdba562-0a23-42fe-9999-23b1c6357316"
      },
      "source": [
        "y_pred = model.predict(test_x, num_iteration=model.best_iteration)\n",
        "y_pred"
      ],
      "execution_count": 578,
      "outputs": [
        {
          "output_type": "execute_result",
          "data": {
            "text/plain": [
              "array([1.78974834, 2.29283466, 3.29394254, ..., 1.35363073, 0.15956462,\n",
              "       0.85287962])"
            ]
          },
          "metadata": {
            "tags": []
          },
          "execution_count": 578
        }
      ]
    },
    {
      "cell_type": "code",
      "metadata": {
        "id": "c9i-0djcBzul",
        "colab": {
          "base_uri": "https://localhost:8080/",
          "height": 17
        },
        "outputId": "ba6e3ee4-9246-42a5-8231-4bf7b310d131"
      },
      "source": [
        "test_x = pd.read_csv(\"/content/drive/My Drive/test_x.csv\")\n",
        "pred_comp = pd.DataFrame({\"お仕事No.\":test_x[\"お仕事No.\"],\n",
        "    \"応募数 合計\":y_pred})\n",
        "pred_comp.to_csv(\"pred_comp.csv\",index=False)\n",
        "from google.colab import files\n",
        "files.download(\"pred_comp.csv\")"
      ],
      "execution_count": 579,
      "outputs": [
        {
          "output_type": "display_data",
          "data": {
            "application/javascript": [
              "\n",
              "    async function download(id, filename, size) {\n",
              "      if (!google.colab.kernel.accessAllowed) {\n",
              "        return;\n",
              "      }\n",
              "      const div = document.createElement('div');\n",
              "      const label = document.createElement('label');\n",
              "      label.textContent = `Downloading \"${filename}\": `;\n",
              "      div.appendChild(label);\n",
              "      const progress = document.createElement('progress');\n",
              "      progress.max = size;\n",
              "      div.appendChild(progress);\n",
              "      document.body.appendChild(div);\n",
              "\n",
              "      const buffers = [];\n",
              "      let downloaded = 0;\n",
              "\n",
              "      const channel = await google.colab.kernel.comms.open(id);\n",
              "      // Send a message to notify the kernel that we're ready.\n",
              "      channel.send({})\n",
              "\n",
              "      for await (const message of channel.messages) {\n",
              "        // Send a message to notify the kernel that we're ready.\n",
              "        channel.send({})\n",
              "        if (message.buffers) {\n",
              "          for (const buffer of message.buffers) {\n",
              "            buffers.push(buffer);\n",
              "            downloaded += buffer.byteLength;\n",
              "            progress.value = downloaded;\n",
              "          }\n",
              "        }\n",
              "      }\n",
              "      const blob = new Blob(buffers, {type: 'application/binary'});\n",
              "      const a = document.createElement('a');\n",
              "      a.href = window.URL.createObjectURL(blob);\n",
              "      a.download = filename;\n",
              "      div.appendChild(a);\n",
              "      a.click();\n",
              "      div.remove();\n",
              "    }\n",
              "  "
            ],
            "text/plain": [
              "<IPython.core.display.Javascript object>"
            ]
          },
          "metadata": {
            "tags": []
          }
        },
        {
          "output_type": "display_data",
          "data": {
            "application/javascript": [
              "download(\"download_e98df0c1-8a84-4936-84cb-0d6050d8893c\", \"pred_comp.csv\", 101438)"
            ],
            "text/plain": [
              "<IPython.core.display.Javascript object>"
            ]
          },
          "metadata": {
            "tags": []
          }
        }
      ]
    },
    {
      "cell_type": "code",
      "metadata": {
        "id": "313ZOt7KCIzO",
        "colab": {
          "base_uri": "https://localhost:8080/",
          "height": 52
        },
        "outputId": "f58d1e91-2584-48d7-ebaf-6f2dfb897182"
      },
      "source": [
        "''' df_importance.to_csv(\"data_importance2.csv\")\n",
        "from google.colab import files\n",
        "files.download(\"data_importance2.csv\") '''"
      ],
      "execution_count": 580,
      "outputs": [
        {
          "output_type": "execute_result",
          "data": {
            "application/vnd.google.colaboratory.intrinsic+json": {
              "type": "string"
            },
            "text/plain": [
              "' df_importance.to_csv(\"data_importance2.csv\")\\nfrom google.colab import files\\nfiles.download(\"data_importance2.csv\") '"
            ]
          },
          "metadata": {
            "tags": []
          },
          "execution_count": 580
        }
      ]
    }
  ]
}